{
  "nbformat": 4,
  "nbformat_minor": 0,
  "metadata": {
    "colab": {
      "provenance": [],
      "authorship_tag": "ABX9TyMVKsXPDEQeKpjb61KJMeCk",
      "include_colab_link": true
    },
    "kernelspec": {
      "name": "python3",
      "display_name": "Python 3"
    },
    "language_info": {
      "name": "python"
    }
  },
  "cells": [
    {
      "cell_type": "markdown",
      "metadata": {
        "id": "view-in-github",
        "colab_type": "text"
      },
      "source": [
        "<a href=\"https://colab.research.google.com/github/JADZO24/Python-data-analysis-challenges/blob/main/50DaysofDataAnalysiswithPythonDay5.ipynb\" target=\"_parent\"><img src=\"https://colab.research.google.com/assets/colab-badge.svg\" alt=\"Open In Colab\"/></a>"
      ]
    },
    {
      "cell_type": "code",
      "execution_count": 1,
      "metadata": {
        "colab": {
          "base_uri": "https://localhost:8080/"
        },
        "id": "gwL4PhIEDa19",
        "outputId": "afa2331d-ad21-4f42-9cc8-fd58e05e4fef"
      },
      "outputs": [
        {
          "output_type": "stream",
          "name": "stdout",
          "text": [
            "[-45 -77 -44]\n"
          ]
        }
      ],
      "source": [
        "import numpy as np\n",
        "\n",
        "list_numbers = [[12, 23, -45], [18, -77, -44]]\n",
        "arr = np.array(list_numbers)\n",
        "\n",
        "negatives = np.where(arr < 0)\n",
        "print(arr[negatives])"
      ]
    },
    {
      "cell_type": "code",
      "source": [],
      "metadata": {
        "id": "pDoGVwKNFy9R"
      },
      "execution_count": 1,
      "outputs": []
    },
    {
      "cell_type": "code",
      "source": [
        "arr = np.array(list_numbers)\n",
        "\n",
        "new_arr = np.multiply(arr, 2)\n",
        "new_arr"
      ],
      "metadata": {
        "colab": {
          "base_uri": "https://localhost:8080/"
        },
        "id": "39WvN17LIUpz",
        "outputId": "c253084e-bf43-41ea-a364-3eca73063bfd"
      },
      "execution_count": 2,
      "outputs": [
        {
          "output_type": "execute_result",
          "data": {
            "text/plain": [
              "array([[  24,   46,  -90],\n",
              "       [  36, -154,  -88]])"
            ]
          },
          "metadata": {},
          "execution_count": 2
        }
      ]
    },
    {
      "cell_type": "code",
      "source": [
        "new_arr = np.multiply(arr, 2)\n",
        "\n",
        "sum_axis_1 = np.sum(new_arr, axis=1)\n",
        "sum_axis_1"
      ],
      "metadata": {
        "colab": {
          "base_uri": "https://localhost:8080/"
        },
        "id": "T4D9e98qJL5L",
        "outputId": "b9169036-a654-4f63-88f0-66ad827825ec"
      },
      "execution_count": 3,
      "outputs": [
        {
          "output_type": "execute_result",
          "data": {
            "text/plain": [
              "array([ -20, -206])"
            ]
          },
          "metadata": {},
          "execution_count": 3
        }
      ]
    },
    {
      "cell_type": "code",
      "source": [
        "new_arr = np.multiply(arr, 2)\n",
        "\n",
        "sum_axis_0 = np.sum(new_arr, axis=0)\n",
        "sum_axis_0"
      ],
      "metadata": {
        "colab": {
          "base_uri": "https://localhost:8080/"
        },
        "id": "gkVDATFcPMmi",
        "outputId": "169de9bb-5d1c-4687-e79b-e00e0b63a83d"
      },
      "execution_count": 4,
      "outputs": [
        {
          "output_type": "execute_result",
          "data": {
            "text/plain": [
              "array([  60, -108, -178])"
            ]
          },
          "metadata": {},
          "execution_count": 4
        }
      ]
    },
    {
      "cell_type": "code",
      "source": [
        "array1 = np.arange(100).reshape(2, 5, 10)\n",
        "array1"
      ],
      "metadata": {
        "colab": {
          "base_uri": "https://localhost:8080/"
        },
        "id": "tH7K5Fk4PkYa",
        "outputId": "c0457d0c-5f06-4e4f-89fb-9c426d4c88cc"
      },
      "execution_count": 5,
      "outputs": [
        {
          "output_type": "execute_result",
          "data": {
            "text/plain": [
              "array([[[ 0,  1,  2,  3,  4,  5,  6,  7,  8,  9],\n",
              "        [10, 11, 12, 13, 14, 15, 16, 17, 18, 19],\n",
              "        [20, 21, 22, 23, 24, 25, 26, 27, 28, 29],\n",
              "        [30, 31, 32, 33, 34, 35, 36, 37, 38, 39],\n",
              "        [40, 41, 42, 43, 44, 45, 46, 47, 48, 49]],\n",
              "\n",
              "       [[50, 51, 52, 53, 54, 55, 56, 57, 58, 59],\n",
              "        [60, 61, 62, 63, 64, 65, 66, 67, 68, 69],\n",
              "        [70, 71, 72, 73, 74, 75, 76, 77, 78, 79],\n",
              "        [80, 81, 82, 83, 84, 85, 86, 87, 88, 89],\n",
              "        [90, 91, 92, 93, 94, 95, 96, 97, 98, 99]]])"
            ]
          },
          "metadata": {},
          "execution_count": 5
        }
      ]
    },
    {
      "cell_type": "code",
      "source": [
        "selection = array1[1,0]\n",
        "selection"
      ],
      "metadata": {
        "colab": {
          "base_uri": "https://localhost:8080/"
        },
        "id": "F58akibN_Obr",
        "outputId": "27fc8c90-719d-41a2-a336-a642cc3ed1a9"
      },
      "execution_count": 9,
      "outputs": [
        {
          "output_type": "execute_result",
          "data": {
            "text/plain": [
              "array([50, 51, 52, 53, 54, 55, 56, 57, 58, 59])"
            ]
          },
          "metadata": {},
          "execution_count": 9
        }
      ]
    },
    {
      "cell_type": "code",
      "source": [
        "list_numbers = [[12, 23, -45], [18, -77, -44]]\n",
        "arr = np.array(list_numbers)\n",
        "\n",
        "array_row_one = arr[0]\n",
        "array_row_two = arr[1]\n",
        "nums_greater = np.greater(array_row_one, array_row_two)\n",
        "print(f\"The numbers in row 1 that are greater are: {sum(nums_greater)}\")"
      ],
      "metadata": {
        "colab": {
          "base_uri": "https://localhost:8080/"
        },
        "id": "A9cwszafAhBz",
        "outputId": "8521b5e8-e638-44b0-e931-148d508b3d80"
      },
      "execution_count": 10,
      "outputs": [
        {
          "output_type": "stream",
          "name": "stdout",
          "text": [
            "The numbers in row 1 that are greater are: 1\n"
          ]
        }
      ]
    }
  ]
}