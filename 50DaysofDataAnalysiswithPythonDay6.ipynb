{
  "nbformat": 4,
  "nbformat_minor": 0,
  "metadata": {
    "colab": {
      "provenance": [],
      "authorship_tag": "ABX9TyPtwJBOb7rbrqR7BLpdGbXs",
      "include_colab_link": true
    },
    "kernelspec": {
      "name": "python3",
      "display_name": "Python 3"
    },
    "language_info": {
      "name": "python"
    }
  },
  "cells": [
    {
      "cell_type": "markdown",
      "metadata": {
        "id": "view-in-github",
        "colab_type": "text"
      },
      "source": [
        "<a href=\"https://colab.research.google.com/github/JADZO24/Python-data-analysis-challenges/blob/main/50DaysofDataAnalysiswithPythonDay6.ipynb\" target=\"_parent\"><img src=\"https://colab.research.google.com/assets/colab-badge.svg\" alt=\"Open In Colab\"/></a>"
      ]
    },
    {
      "cell_type": "code",
      "execution_count": 3,
      "metadata": {
        "colab": {
          "base_uri": "https://localhost:8080/"
        },
        "id": "6dxzDYswGXG7",
        "outputId": "f4b14b53-22b2-4107-847d-368b651550ab"
      },
      "outputs": [
        {
          "output_type": "execute_result",
          "data": {
            "text/plain": [
              "array(['23', '12', '90', '28', '30'], dtype='<U2')"
            ]
          },
          "metadata": {},
          "execution_count": 3
        }
      ],
      "source": [
        "import numpy as np\n",
        "\n",
        "list_str = [\"23\", \"12\", \"90\", \"28\", \"30\"]\n",
        "array1 = np.array(list_str)\n",
        "array1"
      ]
    },
    {
      "cell_type": "code",
      "source": [
        "standard_deviation = array1.astype(np.int64).std()\n",
        "standard_deviation"
      ],
      "metadata": {
        "colab": {
          "base_uri": "https://localhost:8080/"
        },
        "id": "tUEP0zngJU1d",
        "outputId": "1f85f913-cd23-43af-c913-a8225edf5222"
      },
      "execution_count": 5,
      "outputs": [
        {
          "output_type": "execute_result",
          "data": {
            "text/plain": [
              "27.419700946582186"
            ]
          },
          "metadata": {},
          "execution_count": 5
        }
      ]
    },
    {
      "cell_type": "code",
      "source": [
        "array2 = array1.astype(float)\n",
        "array2"
      ],
      "metadata": {
        "colab": {
          "base_uri": "https://localhost:8080/"
        },
        "id": "ULUsy9qeKakU",
        "outputId": "e4c542ec-71ee-458a-8e56-7001d121b6fb"
      },
      "execution_count": 6,
      "outputs": [
        {
          "output_type": "execute_result",
          "data": {
            "text/plain": [
              "array([23., 12., 90., 28., 30.])"
            ]
          },
          "metadata": {},
          "execution_count": 6
        }
      ]
    },
    {
      "cell_type": "code",
      "source": [
        "result = array2[[2, 3, 4]].sum()\n",
        "result"
      ],
      "metadata": {
        "colab": {
          "base_uri": "https://localhost:8080/"
        },
        "id": "4WPIErJPLGK9",
        "outputId": "08e07e6c-5848-46e4-83a3-ef7fbccc27aa"
      },
      "execution_count": 7,
      "outputs": [
        {
          "output_type": "execute_result",
          "data": {
            "text/plain": [
              "148.0"
            ]
          },
          "metadata": {},
          "execution_count": 7
        }
      ]
    },
    {
      "cell_type": "code",
      "source": [
        "rng = np.random.default_rng(seed = 42)\n",
        "array3 = rng.integers(low = 0, high = 100, size=(5, 5))\n",
        "\n",
        "min_val = array3.min()\n",
        "max_val = array3.max()\n",
        "mean = array3.mean()\n",
        "std = array3.std()\n",
        "print(\"Minimum value: \", min_val)\n",
        "print(\"maximum value: \", max_val)\n",
        "print(\"Mean: \",mean)\n",
        "print(\"Std: \", std)"
      ],
      "metadata": {
        "colab": {
          "base_uri": "https://localhost:8080/"
        },
        "id": "jiWP1RLiLJGy",
        "outputId": "fa2bc30f-bc97-4c38-b0e7-e3a4cf79b01e"
      },
      "execution_count": 26,
      "outputs": [
        {
          "output_type": "stream",
          "name": "stdout",
          "text": [
            "Minimum value:  8\n",
            "maximum value:  97\n",
            "Mean:  53.6\n",
            "Std:  27.832355272236665\n"
          ]
        }
      ]
    },
    {
      "cell_type": "code",
      "source": [
        "first_names = [\"John\", \"Kenny\"]\n",
        "last_names = [\"Smith\", \"Sakula\"]\n",
        "\n",
        "# Using the join function to create an array\n",
        "arr = np.char.join(\"\", [first_names, last_names])\n",
        "\n",
        "# Using slicing to return first and second arrays\n",
        "arr1 = arr[:,0]\n",
        "arr2 = arr[:,1]\n",
        "\n",
        "arr1, arr2"
      ],
      "metadata": {
        "colab": {
          "base_uri": "https://localhost:8080/"
        },
        "id": "6ZsaULUqWqpR",
        "outputId": "563b7b6e-5fb7-4acb-8dbf-6c8ba580fccd"
      },
      "execution_count": 27,
      "outputs": [
        {
          "output_type": "execute_result",
          "data": {
            "text/plain": [
              "(array(['John', 'Smith'], dtype='<U6'),\n",
              " array(['Kenny', 'Sakula'], dtype='<U6'))"
            ]
          },
          "metadata": {},
          "execution_count": 27
        }
      ]
    }
  ]
}