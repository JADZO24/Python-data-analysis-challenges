{
  "nbformat": 4,
  "nbformat_minor": 0,
  "metadata": {
    "colab": {
      "provenance": [],
      "authorship_tag": "ABX9TyPVOgmRAA/XUFioXCejm1Yc",
      "include_colab_link": true
    },
    "kernelspec": {
      "name": "python3",
      "display_name": "Python 3"
    },
    "language_info": {
      "name": "python"
    }
  },
  "cells": [
    {
      "cell_type": "markdown",
      "metadata": {
        "id": "view-in-github",
        "colab_type": "text"
      },
      "source": [
        "<a href=\"https://colab.research.google.com/github/JADZO24/Python-data-analysis-challenges/blob/main/50DaysofDataAnalysiswithPythonDay3.ipynb\" target=\"_parent\"><img src=\"https://colab.research.google.com/assets/colab-badge.svg\" alt=\"Open In Colab\"/></a>"
      ]
    },
    {
      "cell_type": "code",
      "execution_count": null,
      "metadata": {
        "colab": {
          "base_uri": "https://localhost:8080/"
        },
        "id": "yzgXRL_IwrEm",
        "outputId": "6ee83360-9bd8-425d-907e-05a611547678"
      },
      "outputs": [
        {
          "output_type": "execute_result",
          "data": {
            "text/plain": [
              "array([[0.77395605, 0.43887844, 0.85859792, 0.69736803],\n",
              "       [0.09417735, 0.97562235, 0.7611397 , 0.78606431],\n",
              "       [0.12811363, 0.45038594, 0.37079802, 0.92676499]])"
            ]
          },
          "metadata": {},
          "execution_count": 1
        }
      ],
      "source": [
        "import numpy as np\n",
        "\n",
        "rng = np.random.default_rng(seed = 42)\n",
        "arr = rng.random(size=(3, 4))\n",
        "arr"
      ]
    },
    {
      "cell_type": "code",
      "source": [
        "rng = np.random.default_rng()\n",
        "rng.integers(10, size=(3, 4))"
      ],
      "metadata": {
        "colab": {
          "base_uri": "https://localhost:8080/"
        },
        "id": "Rfz37_4FxQeC",
        "outputId": "1d7d9b62-748e-4547-dfa2-e04653dc8d21"
      },
      "execution_count": null,
      "outputs": [
        {
          "output_type": "execute_result",
          "data": {
            "text/plain": [
              "array([[0, 3, 6, 0],\n",
              "       [9, 6, 3, 5],\n",
              "       [2, 6, 0, 0]])"
            ]
          },
          "metadata": {},
          "execution_count": 2
        }
      ]
    },
    {
      "cell_type": "code",
      "source": [
        "import matplotlib.pyplot as plt\n",
        "\n",
        "# Instantianting a generator and setting seed\n",
        "rng = np.random.default_rng(seed = 42)\n",
        "arr2 = rng.standard_normal(size=(1000))\n",
        "\n",
        "# plotting a hist plot\n",
        "plt.hist(arr2, bins=50)\n",
        "plt.title(\"Standard Normal Distribution\")\n",
        "plt.show()"
      ],
      "metadata": {
        "colab": {
          "base_uri": "https://localhost:8080/",
          "height": 452
        },
        "id": "XBKLDUs1yuCI",
        "outputId": "c9334c65-373f-4da6-cce9-4733d5b2a39c"
      },
      "execution_count": null,
      "outputs": [
        {
          "output_type": "display_data",
          "data": {
            "text/plain": [
              "<Figure size 640x480 with 1 Axes>"
            ],
            "image/png": "[encoded data removed]"
          },
          "metadata": {}
        }
      ]
    },
    {
      "cell_type": "code",
      "source": [
        "lst = [\"Orange\", \"Apple\", \"Pear\"]\n",
        "\n",
        "# constructing a random generator\n",
        "rng = np.random.default_rng(seed = 24)\n",
        "\n",
        "arr = rng.choice(lst, size = (3, 4))\n",
        "arr"
      ],
      "metadata": {
        "id": "LJjiUyxOzNea",
        "outputId": "00faace0-95c8-4180-a6d0-b166cf70e475",
        "colab": {
          "base_uri": "https://localhost:8080/"
        }
      },
      "execution_count": null,
      "outputs": [
        {
          "output_type": "execute_result",
          "data": {
            "text/plain": [
              "array([['Apple', 'Orange', 'Pear', 'Apple'],\n",
              "       ['Pear', 'Apple', 'Orange', 'Apple'],\n",
              "       ['Apple', 'Apple', 'Apple', 'Apple']], dtype='<U6')"
            ]
          },
          "metadata": {},
          "execution_count": 4
        }
      ]
    }
  ]
}